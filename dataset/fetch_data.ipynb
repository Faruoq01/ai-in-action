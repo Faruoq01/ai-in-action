{
 "cells": [
  {
   "cell_type": "code",
   "execution_count": 58,
   "id": "2a9c00c7-461c-44de-a2c3-8b7b66d525d4",
   "metadata": {},
   "outputs": [
    {
     "name": "stdout",
     "output_type": "stream",
     "text": [
      "Fetching records 0 to 100...\n",
      "Fetching records 100 to 200...\n",
      "Fetching records 200 to 300...\n",
      "Fetching records 300 to 400...\n",
      "Fetching records 400 to 500...\n",
      "Fetching records 500 to 600...\n",
      "Fetching records 600 to 700...\n",
      "Fetching records 700 to 800...\n",
      "Fetching records 800 to 900...\n",
      "Fetching records 900 to 1000...\n",
      "Fetching records 1000 to 1100...\n",
      "✅ Fetched 1003 records and saved to health_dataset_full.csv\n"
     ]
    }
   ],
   "source": [
    "import requests\n",
    "import pandas as pd\n",
    "\n",
    "# Constants\n",
    "BASE_URL = \"https://datasets-server.huggingface.co/rows\"\n",
    "DATASET = \"hari560/health\"\n",
    "CONFIG = \"default\"\n",
    "SPLIT = \"train\"\n",
    "BATCH_SIZE = 100  # Maximum per request\n",
    "TOTAL_RECORDS = 1003\n",
    "\n",
    "# Fetch all records in batches\n",
    "all_records = []\n",
    "\n",
    "for offset in range(0, TOTAL_RECORDS, BATCH_SIZE):\n",
    "    url = f\"{BASE_URL}?dataset={DATASET}&config={CONFIG}&split={SPLIT}&offset={offset}&length={BATCH_SIZE}\"\n",
    "    print(f\"Fetching records {offset} to {offset + BATCH_SIZE}...\")\n",
    "    response = requests.get(url)\n",
    "    response.raise_for_status()\n",
    "    data = response.json()\n",
    "    \n",
    "    rows = data['rows']\n",
    "    records = [row['row'] for row in rows]\n",
    "    all_records.extend(records)\n",
    "\n",
    "# Convert to DataFrame\n",
    "df = pd.DataFrame(all_records)\n",
    "\n",
    "# Save to CSV\n",
    "df.to_csv(\"health_dataset_full.csv\", index=False)\n",
    "\n",
    "print(f\"✅ Fetched {len(df)} records and saved to health_dataset_full.csv\")"
   ]
  },
  {
   "cell_type": "code",
   "execution_count": 65,
   "id": "522987b9-ba23-41be-8d09-16bfbf9086e2",
   "metadata": {},
   "outputs": [
    {
     "data": {
      "text/plain": [
       "\"###Input :My daughter ( F, 18 y/o, 5'5', 165lbs) has been feeling poorly for a 6-8 months. She had COVID a couple of months ago and symptoms have are much worse in the last month or so. Symptoms seem POTS-like. She feels light headed, breathless, dizzy, HR goes from ~65 lying down to ~155-160 on standing. Today she tells me HR has been around 170 all day and she feels really lousy. (She using an OTC pulse ox to measure.) She has a cardiology appt but not until March and a PCP appt but not until April since she's at school and it's a new provider. What to do? Is this a on call nurse sort of issue? Or a trip to the ED? Or wait till tomorrow and try for an early appt? Try a couple of Valsalvas? Wait it out until her cardio appt? Or? She's away at school if Boston, what to do? Thank you ###Output :If she actually has a HR of 170 that is accurate, ongoing and persistent, she needs to be seen in the ED immediately.\""
      ]
     },
     "execution_count": 65,
     "metadata": {},
     "output_type": "execute_result"
    }
   ],
   "source": [
    "data = pd.read_csv(\"health_dataset_full.csv\")\n",
    "column = data[\"text\"][0]\n",
    "column"
   ]
  },
  {
   "cell_type": "code",
   "execution_count": 77,
   "id": "4f7fd428-c1a7-4b27-93bb-ab59cfb331f3",
   "metadata": {},
   "outputs": [
    {
     "name": "stdout",
     "output_type": "stream",
     "text": [
      "0       An 18-year-old female has been feeling poorly ...\n",
      "1       A 37-year-old transgender man with pre-diabete...\n",
      "2       A 35-year-old physically active male, previous...\n",
      "3       The patient reports that all lab tests returne...\n",
      "4       A 32-year-old female with asthma and a history...\n",
      "                              ...                        \n",
      "998     A 33-year-old overweight female from Canada pr...\n",
      "999     A female patient reports macrohematuria, with ...\n",
      "1000    A 28-year-old male presents with 2 days of kid...\n",
      "1001    A 33-year-old male received a concerning lette...\n",
      "1002    The patient describes a mobile mass in the bla...\n",
      "Name: interpretation, Length: 1003, dtype: object\n",
      "=================>\n",
      "0                      cardiology, diagnostic_uncertainty\n",
      "1       cardiology, pharmacology, patient_education, d...\n",
      "2       diagnostic_uncertainty, cardiology, neurology,...\n",
      "3                                  diagnostic_uncertainty\n",
      "4                           cardiology, patient_education\n",
      "                              ...                        \n",
      "998                       urology, diagnostic_uncertainty\n",
      "999             diagnostic_uncertainty, patient_education\n",
      "1000            diagnostic_uncertainty, patient_education\n",
      "1001                      urology, diagnostic_uncertainty\n",
      "1002                      diagnostic_uncertainty, urology\n",
      "Name: functional_tags, Length: 1003, dtype: object\n"
     ]
    }
   ],
   "source": [
    "processed = pd.read_csv(\"health-data-processed.csv\")\n",
    "col = processed[\"interpretation\"]\n",
    "tags = processed[\"functional_tags\"]\n",
    "print(col)\n",
    "print(\"=================>\")\n",
    "print(tags)"
   ]
  },
  {
   "cell_type": "code",
   "execution_count": null,
   "id": "0c849997-f8fd-41a5-bb9f-5aa48e1ba94d",
   "metadata": {},
   "outputs": [],
   "source": []
  }
 ],
 "metadata": {
  "kernelspec": {
   "display_name": "Python 3 (ipykernel)",
   "language": "python",
   "name": "python3"
  },
  "language_info": {
   "codemirror_mode": {
    "name": "ipython",
    "version": 3
   },
   "file_extension": ".py",
   "mimetype": "text/x-python",
   "name": "python",
   "nbconvert_exporter": "python",
   "pygments_lexer": "ipython3",
   "version": "3.11.11"
  }
 },
 "nbformat": 4,
 "nbformat_minor": 5
}
